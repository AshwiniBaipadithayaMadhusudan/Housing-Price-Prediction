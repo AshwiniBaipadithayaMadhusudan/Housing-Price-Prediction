{
 "cells": [
  {
   "cell_type": "code",
   "execution_count": null,
   "metadata": {},
   "outputs": [],
   "source": [
    "import pandas as pd\n",
    "import numpy as np\n",
    "import matplotlib.pyplot as plt\n",
    "from sklearn import preprocessing\n",
    "from sklearn.model_selection import train_test_split\n",
    "from sklearn.preprocessing import LabelEncoder\n",
    "from sklearn import metrics\n",
    "from sklearn.ensemble import GradientBoostingRegressor\n"
   ]
  },
  {
   "cell_type": "code",
   "execution_count": 2,
   "metadata": {},
   "outputs": [],
   "source": [
    "df_train = pd.read_csv(\"C:/Users/harish/Desktop/train.csv\",index_col='Id')\n",
    "Y_train=df_train['SalePrice']\n",
    "df_train=df_train.iloc[:,:-1]#This will skip last column\n",
    "\n",
    "\n",
    "df_test = pd.read_csv(\"C:/Users/harish/Desktop/test.csv\",index_col='Id')"
   ]
  },
  {
   "cell_type": "code",
   "execution_count": 3,
   "metadata": {},
   "outputs": [],
   "source": [
    "df= pd.concat([df_train, df_test])#We concatenate the trainng and test set so that we can apply all the preprocessing at \n",
    "                                  # once on both training and test set"
   ]
  },
  {
   "cell_type": "code",
   "execution_count": 4,
   "metadata": {},
   "outputs": [],
   "source": [
    "#For most of the categorical variables, we fill NA by defining a separate category.\n",
    "df['LotFrontage'].fillna(0,inplace=True)\n",
    "df['Alley'].fillna('NAA',inplace=True)\n",
    "df['MasVnrType'].fillna('None',inplace=True)\n",
    "df.update(df[['BsmtQual','BsmtCond','BsmtExposure','BsmtFinType1','BsmtFinType2']].fillna('NB'))\n",
    "df['MasVnrArea'].fillna(0,inplace=True)\n",
    "df['Electrical'].fillna(df['Electrical'].mode()[0],inplace=True)\n",
    "df['FireplaceQu'].fillna('NFP',inplace=True)\n",
    "df.update(df[['GarageType','GarageYrBlt','GarageFinish','GarageQual','GarageCond']].fillna('NG'))\n",
    "df['PoolQC'].fillna('NP',inplace=True)\n",
    "df['Fence'].fillna('NF',inplace=True)\n",
    "\n",
    "df.fillna(method='ffill',inplace=True)#There are some variables in test set that have NA values when the same variable\n",
    "                                      #does not have any NA in training set.To tackle these type variables, we have used ffill\n"
   ]
  },
  {
   "cell_type": "code",
   "execution_count": 5,
   "metadata": {},
   "outputs": [],
   "source": [
    "\n",
    "df=pd.get_dummies(df,columns=['MSZoning','Neighborhood','Condition1','Condition2','BldgType',\n",
    "                              'MasVnrType','Exterior2nd','Exterior1st','RoofStyle','Heating',\n",
    "                              'CentralAir','RoofMatl'],drop_first=True)#one hot encoding used for categorical variables \n",
    "                                                                       #that do are not ordinal\n",
    "\n",
    "#Label encoding used for categorical variables with ordinality\n",
    "df['SaleType']=LabelEncoder().fit_transform(df['SaleType'])\n",
    "df['SaleCondition']=LabelEncoder().fit_transform(df['SaleCondition'])\n"
   ]
  },
  {
   "cell_type": "code",
   "execution_count": 6,
   "metadata": {
    "scrolled": true
   },
   "outputs": [],
   "source": [
    "#We are manually replacing categorical(ordinal) variables with numerical entries to preserve their order of importance\n",
    "replacements = {\n",
    "   'Street': {'Pave': 1,'Grvl': 0},\n",
    "    'Alley': {'NAA': 0,'Grvl': 1,'Pave':2},\n",
    "    'LotShape': {'IR3': 0,'IR2': 1,'IR1':2,'Reg':3},\n",
    "    'LandContour': {'Low': 0,'HLS': 1,'Bnk':2,'Lvl':3},\n",
    "    'LotConfig': {'Inside': 0,'Corner': 1,'CulDSac':2,'FR2':3,'FR3':4},\n",
    "    'LandSlope': {'Sev': 0,'Mod': 1,'Gtl':2},\n",
    "    'HouseStyle': {'1Story': 1,'1.5Fin':1.5,'1.5Unf':1.25,'2Story':2,'2.5Fin':2.5,'2.5Unf':2.25,'SFoyer':3,'SLvl':3.5},\n",
    "    'ExterQual': {'Ex': 4,'Gd':3,'TA':2,'Fa':1,'Po':0},\n",
    "    'ExterCond': {'Ex': 4,'Gd':3,'TA':2,'Fa':1,'Po':0},\n",
    "    'Foundation': {'PConc':5,'CBlock':4,'Stone':3,'Slab':2,'BrkTil':1,'Wood':0},\n",
    "    'BsmtQual': {'Ex':105,'Gd':95,'TA':85,'Fa':75,'Po':42.5,'NB':0},\n",
    "    'BsmtCond': {'Ex': 5,'Gd':4,'TA':3,'Fa':2,'Po':1,'NB':0},\n",
    "    'BsmtExposure':{'Gd': 4,'Av':3,'Mn':2,'No':1,'NB':0},\n",
    "    'BsmtFinType1':{'GLQ':6,'ALQ':5,'BLQ':4,'Rec':3,'LwQ':2,'Unf':1,'NB':0},\n",
    "    'BsmtFinType2':{'GLQ':6,'ALQ':5,'BLQ':4,'Rec':3,'LwQ':2,'Unf':1,'NB':0},\n",
    "    'HeatingQC':{'Ex': 4,'Gd':3,'TA':2,'Fa':1,'Po':0},\n",
    "    'Electrical':{'SBrkr': 4,'FuseA':3,'FuseF':2,'FuseP':1,'Mix':2.5},\n",
    "    'KitchenQual':{'Ex': 5,'Gd':4,'TA':3,'Fa':2,'Po':1},\n",
    "    'Functional':{'Typ': 7,'Min1':6,'Min2':5,'Mod':4,'Maj1':3,'Maj2':2,'Sev':1,'Sal':0},\n",
    "    'FireplaceQu':{'Ex': 5,'Gd':4,'TA':3,'Fa':2,'Po':1,'NFP':0},\n",
    "    'GarageType':{'2Types': 6,'Attchd':5,'Basment':4,'BuiltIn':3,'CarPort':2,'Detchd':1,'NG':0},\n",
    "    'GarageFinish':{'Fin':3,'RFn':2,'Unf':1,'NG':0}, \n",
    "    'GarageQual':{'Ex': 5,'Gd':4,'TA':3,'Fa':2,'Po':1,'NG':0},\n",
    "    'GarageCond':{'Ex': 5,'Gd':4,'TA':3,'Fa':2,'Po':1,'NG':0},\n",
    "    'PavedDrive':{'Y': 3,'P':2,'N':1},\n",
    "    'PoolQC':{'Ex': 4,'Gd':3,'TA':2,'Fa':1,'NP':0},\n",
    "    'Fence':{'GdPrv': 4,'MnPrv':3,'GdWo':2,'MnWw':1,'NF':0}   \n",
    "}\n",
    "\n",
    "df.replace(replacements, inplace=True)\n",
    "\n",
    "\n",
    "df.loc[df['Utilities'] =='AllPub', 'Utilities'] = 1\n",
    "df.loc[df['Utilities'] != 1, 'Utilities'] = 0\n"
   ]
  },
  {
   "cell_type": "code",
   "execution_count": 7,
   "metadata": {},
   "outputs": [],
   "source": [
    "#FEATURE ENGINEERING\n",
    "df['basementinfo']=(df['BsmtFinSF1']*df['BsmtFinType2'])+(df['BsmtFinSF1']*df['BsmtFinType2'])+df['BsmtUnfSF']\n",
    "df['Totalbath']=df['BsmtFullBath']+df['BsmtHalfBath']+df['FullBath']+df['HalfBath']\n",
    "df['Kitcheninfo']=df['KitchenQual']*df['KitchenAbvGr']\n",
    "df['Fireplaceinfo']=df['FireplaceQu']*df['Fireplaces']\n",
    "df['Garageinfo']=df['GarageType']*df['GarageFinish']*df['GarageQual']*df['GarageCond']*df['GarageCars']*df['GarageArea']\n",
    "df['Porchtotal']=df['OpenPorchSF']+df['EnclosedPorch']+df['3SsnPorch']+df['ScreenPorch']\n",
    "df['Poolinfo']=df['PoolQC']*df['PoolArea']\n"
   ]
  },
  {
   "cell_type": "code",
   "execution_count": 8,
   "metadata": {},
   "outputs": [],
   "source": [
    "df.drop(['BsmtFinSF1', 'BsmtFinSF2','BsmtFinType1','BsmtFinType2','BsmtUnfSF','TotalBsmtSF',\n",
    "        '1stFlrSF', '2ndFlrSF','LowQualFinSF','KitchenQual', 'KitchenAbvGr','FireplaceQu', \n",
    "         'Fireplaces','GarageYrBlt','GarageType','GarageFinish','GarageQual','GarageCond',\n",
    "         'GarageCars','GarageArea','OpenPorchSF','EnclosedPorch','3SsnPorch','ScreenPorch'\n",
    "        ,'PoolQC', 'PoolArea','MiscFeature','MoSold','BsmtFullBath', 'BsmtHalfBath','FullBath','HalfBath'], axis=1,inplace=True)"
   ]
  },
  {
   "cell_type": "code",
   "execution_count": 9,
   "metadata": {},
   "outputs": [],
   "source": [
    "X_train=df.iloc[:(df_train.shape[0]),]\n",
    "X_test =df.iloc[(df_train.shape[0]):,]"
   ]
  },
  {
   "cell_type": "code",
   "execution_count": 117,
   "metadata": {},
   "outputs": [],
   "source": [
    "modelGB=GradientBoostingRegressor(n_estimators=400,random_state=6)\n",
    "GB=modelGB.fit(X_train,Y_train)"
   ]
  },
  {
   "cell_type": "code",
   "execution_count": 120,
   "metadata": {},
   "outputs": [],
   "source": [
    "y_pred=GB.predict(X_test)"
   ]
  },
  {
   "cell_type": "code",
   "execution_count": 121,
   "metadata": {},
   "outputs": [
    {
     "data": {
      "text/html": [
       "<div>\n",
       "<style scoped>\n",
       "    .dataframe tbody tr th:only-of-type {\n",
       "        vertical-align: middle;\n",
       "    }\n",
       "\n",
       "    .dataframe tbody tr th {\n",
       "        vertical-align: top;\n",
       "    }\n",
       "\n",
       "    .dataframe thead th {\n",
       "        text-align: right;\n",
       "    }\n",
       "</style>\n",
       "<table border=\"1\" class=\"dataframe\">\n",
       "  <thead>\n",
       "    <tr style=\"text-align: right;\">\n",
       "      <th></th>\n",
       "      <th>Id</th>\n",
       "      <th>SalePrice</th>\n",
       "    </tr>\n",
       "  </thead>\n",
       "  <tbody>\n",
       "    <tr>\n",
       "      <th>0</th>\n",
       "      <td>1461</td>\n",
       "      <td>127347.726795</td>\n",
       "    </tr>\n",
       "    <tr>\n",
       "      <th>1</th>\n",
       "      <td>1462</td>\n",
       "      <td>150319.230065</td>\n",
       "    </tr>\n",
       "    <tr>\n",
       "      <th>2</th>\n",
       "      <td>1463</td>\n",
       "      <td>199236.215572</td>\n",
       "    </tr>\n",
       "    <tr>\n",
       "      <th>3</th>\n",
       "      <td>1464</td>\n",
       "      <td>195172.618018</td>\n",
       "    </tr>\n",
       "    <tr>\n",
       "      <th>4</th>\n",
       "      <td>1465</td>\n",
       "      <td>180640.005063</td>\n",
       "    </tr>\n",
       "  </tbody>\n",
       "</table>\n",
       "</div>"
      ],
      "text/plain": [
       "     Id      SalePrice\n",
       "0  1461  127347.726795\n",
       "1  1462  150319.230065\n",
       "2  1463  199236.215572\n",
       "3  1464  195172.618018\n",
       "4  1465  180640.005063"
      ]
     },
     "execution_count": 121,
     "metadata": {},
     "output_type": "execute_result"
    }
   ],
   "source": [
    "s1=pd.Series(X_test.index.values, name='Id')\n",
    "s2=pd.Series(y_pred, name='SalePrice')\n",
    "sub= pd.concat([s1, s2], axis=1)\n",
    "sub.head()"
   ]
  },
  {
   "cell_type": "code",
   "execution_count": 122,
   "metadata": {},
   "outputs": [],
   "source": [
    "import os\n",
    "os.chdir(\"C:/Users/ashwini/Desktop\")\n",
    "sub.to_csv('finaldataprocessing_GB.csv',index=False)"
   ]
  },
  {
   "cell_type": "code",
   "execution_count": null,
   "metadata": {},
   "outputs": [],
   "source": []
  },
  {
   "cell_type": "code",
   "execution_count": null,
   "metadata": {},
   "outputs": [],
   "source": []
  }
 ],
 "metadata": {
  "kernelspec": {
   "display_name": "Python 3",
   "language": "python",
   "name": "python3"
  },
  "language_info": {
   "codemirror_mode": {
    "name": "ipython",
    "version": 3
   },
   "file_extension": ".py",
   "mimetype": "text/x-python",
   "name": "python",
   "nbconvert_exporter": "python",
   "pygments_lexer": "ipython3",
   "version": "3.6.5"
  }
 },
 "nbformat": 4,
 "nbformat_minor": 2
}
